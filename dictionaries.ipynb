{
 "cells": [
  {
   "cell_type": "markdown",
   "id": "aa4f4023",
   "metadata": {},
   "source": [
    "### Dictionary\n",
    "##### Dictionaries in python are represented as key, value pair. <k,v>"
   ]
  },
  {
   "cell_type": "code",
   "execution_count": 26,
   "id": "0b6aa258",
   "metadata": {},
   "outputs": [],
   "source": [
    "city_population = {\"New York City\":8_550_405,\n",
    "                  \"Los Angeles\": 3_971_883,\n",
    "                  \"Toronto\": 2_731_571,\n",
    "                  \"Chicago\": 2_720_546,\n",
    "                  \"Houston\": 2_296_224,\n",
    "                  \"Montreal\": 1_704_694,\n",
    "                  \"Chicago\": 2_720_547,\n",
    "                  \"Ashburn\": \"Data Scientists\",\n",
    "                  123_456: \"Machine Learning\",\n",
    "                  \"lst-123\": [\"A\", \"B\"]}"
   ]
  },
  {
   "cell_type": "code",
   "execution_count": 27,
   "id": "5d57c16c",
   "metadata": {},
   "outputs": [
    {
     "data": {
      "text/plain": [
       "8550405"
      ]
     },
     "execution_count": 27,
     "metadata": {},
     "output_type": "execute_result"
    }
   ],
   "source": [
    "city_population[\"New York City\"]"
   ]
  },
  {
   "cell_type": "code",
   "execution_count": 28,
   "id": "ba3b87e9",
   "metadata": {},
   "outputs": [
    {
     "data": {
      "text/plain": [
       "dict"
      ]
     },
     "execution_count": 28,
     "metadata": {},
     "output_type": "execute_result"
    }
   ],
   "source": [
    "type(city_population)"
   ]
  },
  {
   "cell_type": "code",
   "execution_count": 29,
   "id": "9d5094cb",
   "metadata": {},
   "outputs": [
    {
     "data": {
      "text/plain": [
       "int"
      ]
     },
     "execution_count": 29,
     "metadata": {},
     "output_type": "execute_result"
    }
   ],
   "source": [
    "type(city_population[\"New York City\"])"
   ]
  },
  {
   "cell_type": "code",
   "execution_count": 30,
   "id": "3441e711",
   "metadata": {},
   "outputs": [
    {
     "data": {
      "text/plain": [
       "{'New York City': 8550405,\n",
       " 'Los Angeles': 3971883,\n",
       " 'Toronto': 2731571,\n",
       " 'Chicago': 2720547,\n",
       " 'Houston': 2296224,\n",
       " 'Montreal': 1704694,\n",
       " 'Ashburn': 'Data Scientists',\n",
       " 123456: 'Machine Learning',\n",
       " 'lst-123': ['A', 'B']}"
      ]
     },
     "execution_count": 30,
     "metadata": {},
     "output_type": "execute_result"
    }
   ],
   "source": [
    "city_population"
   ]
  },
  {
   "cell_type": "code",
   "execution_count": null,
   "id": "cbfd601d",
   "metadata": {},
   "outputs": [],
   "source": []
  }
 ],
 "metadata": {
  "kernelspec": {
   "display_name": "Python 3 (ipykernel)",
   "language": "python",
   "name": "python3"
  },
  "language_info": {
   "codemirror_mode": {
    "name": "ipython",
    "version": 3
   },
   "file_extension": ".py",
   "mimetype": "text/x-python",
   "name": "python",
   "nbconvert_exporter": "python",
   "pygments_lexer": "ipython3",
   "version": "3.11.3"
  }
 },
 "nbformat": 4,
 "nbformat_minor": 5
}
