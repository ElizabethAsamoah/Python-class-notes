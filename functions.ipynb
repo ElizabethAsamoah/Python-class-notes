{
 "cells": [
  {
   "cell_type": "markdown",
   "id": "28a67598",
   "metadata": {},
   "source": [
    "### Functions"
   ]
  },
  {
   "cell_type": "code",
   "execution_count": 1,
   "id": "876d88dd",
   "metadata": {},
   "outputs": [],
   "source": [
    "# Structure of a function in Python is\n",
    "# def <function_name>(<input parameters>):\n",
    "#     <function_body> \n",
    "#     <return or a print statement>"
   ]
  },
  {
   "cell_type": "code",
   "execution_count": 5,
   "id": "9ef58514",
   "metadata": {},
   "outputs": [],
   "source": [
    "def greet(name):\n",
    "    print(\"Hi \" + name)\n",
    "    print(\"Nice to see you again!\")\n"
   ]
  },
  {
   "cell_type": "code",
   "execution_count": 6,
   "id": "f9df69d0",
   "metadata": {},
   "outputs": [
    {
     "name": "stdout",
     "output_type": "stream",
     "text": [
      "Hi Peter\n",
      "Nice to see you again!\n"
     ]
    }
   ],
   "source": [
    "greet(\"Peter\")"
   ]
  },
  {
   "cell_type": "code",
   "execution_count": 7,
   "id": "6b446019",
   "metadata": {},
   "outputs": [
    {
     "name": "stdout",
     "output_type": "stream",
     "text": [
      "Hi Jane\n",
      "Nice to see you again!\n"
     ]
    }
   ],
   "source": [
    "greet(\"Jane\")"
   ]
  },
  {
   "cell_type": "code",
   "execution_count": 8,
   "id": "05ad9ee0",
   "metadata": {},
   "outputs": [
    {
     "name": "stdout",
     "output_type": "stream",
     "text": [
      "Hi Jim\n",
      "Nice to see you again!\n"
     ]
    }
   ],
   "source": [
    "greet(\"Jim\")"
   ]
  },
  {
   "cell_type": "markdown",
   "id": "265d74df",
   "metadata": {},
   "source": [
    "#### Write a function to convert celsius to fahrenheit"
   ]
  },
  {
   "cell_type": "code",
   "execution_count": 9,
   "id": "df3bdf23",
   "metadata": {},
   "outputs": [],
   "source": [
    "def fahrenheit(t_in_celsius):\n",
    "    return (t_in_celsius * 9 / 5) + 32"
   ]
  },
  {
   "cell_type": "code",
   "execution_count": 12,
   "id": "e04aa936",
   "metadata": {},
   "outputs": [
    {
     "data": {
      "text/plain": [
       "104.0"
      ]
     },
     "execution_count": 12,
     "metadata": {},
     "output_type": "execute_result"
    }
   ],
   "source": [
    "fahrenheit(40)"
   ]
  },
  {
   "cell_type": "code",
   "execution_count": 14,
   "id": "6dd5dc39",
   "metadata": {},
   "outputs": [
    {
     "name": "stdout",
     "output_type": "stream",
     "text": [
      "22.6 --> 72.68\n",
      "25.8 --> 78.44\n",
      "27.3 --> 81.14\n",
      "29.8 --> 85.64\n"
     ]
    }
   ],
   "source": [
    "lstTemp = [22.6, 25.8, 27.3, 29.8]\n",
    "for t in lstTemp:\n",
    "    print(t, \"-->\", fahrenheit(t))"
   ]
  },
  {
   "cell_type": "markdown",
   "id": "c4ec5b01",
   "metadata": {},
   "source": [
    "### Calculate Average"
   ]
  },
  {
   "cell_type": "code",
   "execution_count": 15,
   "id": "2bf65718",
   "metadata": {},
   "outputs": [],
   "source": [
    "def avg(intFirst, *intRest): # *intRest is called variable argument\n",
    "    return (intFirst + sum(intRest)) / (1 + len(intRest))\n",
    "    "
   ]
  },
  {
   "cell_type": "code",
   "execution_count": 16,
   "id": "b1efa452",
   "metadata": {},
   "outputs": [
    {
     "data": {
      "text/plain": [
       "2.0"
      ]
     },
     "execution_count": 16,
     "metadata": {},
     "output_type": "execute_result"
    }
   ],
   "source": [
    "avg(1, 2, 3)"
   ]
  },
  {
   "cell_type": "code",
   "execution_count": 17,
   "id": "903dd390",
   "metadata": {},
   "outputs": [
    {
     "data": {
      "text/plain": [
       "4.0"
      ]
     },
     "execution_count": 17,
     "metadata": {},
     "output_type": "execute_result"
    }
   ],
   "source": [
    "avg(1, 2, 3, 4, 5, 6, 7)"
   ]
  },
  {
   "cell_type": "code",
   "execution_count": 18,
   "id": "4923260a",
   "metadata": {},
   "outputs": [
    {
     "data": {
      "text/plain": [
       "27.833333333333332"
      ]
     },
     "execution_count": 18,
     "metadata": {},
     "output_type": "execute_result"
    }
   ],
   "source": [
    "avg(5, 10, 29, 35, 38, 50)"
   ]
  },
  {
   "cell_type": "code",
   "execution_count": 19,
   "id": "0c746a05",
   "metadata": {},
   "outputs": [],
   "source": [
    "def average(*intRest): # *intRest is called variable argument\n",
    "    return (sum(intRest)) / (len(intRest))"
   ]
  },
  {
   "cell_type": "code",
   "execution_count": 20,
   "id": "5eb9d81c",
   "metadata": {},
   "outputs": [
    {
     "data": {
      "text/plain": [
       "27.833333333333332"
      ]
     },
     "execution_count": 20,
     "metadata": {},
     "output_type": "execute_result"
    }
   ],
   "source": [
    "average(5, 10, 29, 35, 38, 50)"
   ]
  },
  {
   "cell_type": "markdown",
   "id": "8d02c33b",
   "metadata": {},
   "source": [
    "#### Default argument value"
   ]
  },
  {
   "cell_type": "code",
   "execution_count": 21,
   "id": "d2ddfa8a",
   "metadata": {},
   "outputs": [],
   "source": [
    "def hello():\n",
    "    return \"Hello World!\""
   ]
  },
  {
   "cell_type": "code",
   "execution_count": 22,
   "id": "cd0895a7",
   "metadata": {},
   "outputs": [
    {
     "data": {
      "text/plain": [
       "'Hello World!'"
      ]
     },
     "execution_count": 22,
     "metadata": {},
     "output_type": "execute_result"
    }
   ],
   "source": [
    "hello()"
   ]
  },
  {
   "cell_type": "code",
   "execution_count": 23,
   "id": "d4dbd968",
   "metadata": {},
   "outputs": [],
   "source": [
    "def hello(name):\n",
    "    return \"Hello \" + name + \"!\""
   ]
  },
  {
   "cell_type": "code",
   "execution_count": 24,
   "id": "19d533ba",
   "metadata": {},
   "outputs": [
    {
     "data": {
      "text/plain": [
       "'Hello Jack!'"
      ]
     },
     "execution_count": 24,
     "metadata": {},
     "output_type": "execute_result"
    }
   ],
   "source": [
    "hello(\"Jack\")"
   ]
  },
  {
   "cell_type": "code",
   "execution_count": 25,
   "id": "23d27a39",
   "metadata": {},
   "outputs": [],
   "source": [
    "def hello(name=\"Everybody\"): # Default value for name is provided\n",
    "    return \"Hello \" + name + \"!\""
   ]
  },
  {
   "cell_type": "code",
   "execution_count": 26,
   "id": "81d974e3",
   "metadata": {},
   "outputs": [
    {
     "data": {
      "text/plain": [
       "'Hello Everybody!'"
      ]
     },
     "execution_count": 26,
     "metadata": {},
     "output_type": "execute_result"
    }
   ],
   "source": [
    "hello()"
   ]
  },
  {
   "cell_type": "code",
   "execution_count": 27,
   "id": "24c68691",
   "metadata": {},
   "outputs": [
    {
     "data": {
      "text/plain": [
       "'Hello Jane!'"
      ]
     },
     "execution_count": 27,
     "metadata": {},
     "output_type": "execute_result"
    }
   ],
   "source": [
    "hello(\"Jane\")"
   ]
  },
  {
   "cell_type": "code",
   "execution_count": 28,
   "id": "8aa0d4fe",
   "metadata": {},
   "outputs": [
    {
     "name": "stdout",
     "output_type": "stream",
     "text": [
      "Help on function hello in module __main__:\n",
      "\n",
      "hello(name='Everybody')\n",
      "\n"
     ]
    }
   ],
   "source": [
    "help(hello)"
   ]
  },
  {
   "cell_type": "code",
   "execution_count": 29,
   "id": "c1a751e8",
   "metadata": {},
   "outputs": [
    {
     "name": "stdout",
     "output_type": "stream",
     "text": [
      "Help on built-in function print in module builtins:\n",
      "\n",
      "print(*args, sep=' ', end='\\n', file=None, flush=False)\n",
      "    Prints the values to a stream, or to sys.stdout by default.\n",
      "    \n",
      "    sep\n",
      "      string inserted between values, default a space.\n",
      "    end\n",
      "      string appended after the last value, default a newline.\n",
      "    file\n",
      "      a file-like object (stream); defaults to the current sys.stdout.\n",
      "    flush\n",
      "      whether to forcibly flush the stream.\n",
      "\n"
     ]
    }
   ],
   "source": [
    "help(print)"
   ]
  },
  {
   "cell_type": "code",
   "execution_count": 30,
   "id": "bcaf3568",
   "metadata": {},
   "outputs": [],
   "source": [
    "def add(x, y):\n",
    "    return x + y"
   ]
  },
  {
   "cell_type": "code",
   "execution_count": 31,
   "id": "1d30f210",
   "metadata": {},
   "outputs": [
    {
     "name": "stdout",
     "output_type": "stream",
     "text": [
      "Help on function add in module __main__:\n",
      "\n",
      "add(x, y)\n",
      "\n"
     ]
    }
   ],
   "source": [
    "help(add)"
   ]
  },
  {
   "cell_type": "code",
   "execution_count": 32,
   "id": "56d4e34b",
   "metadata": {},
   "outputs": [],
   "source": [
    "def add(x:int, y:int) ->int:\n",
    "    return x + y"
   ]
  },
  {
   "cell_type": "code",
   "execution_count": 33,
   "id": "c279d6d2",
   "metadata": {},
   "outputs": [
    {
     "data": {
      "text/plain": [
       "5"
      ]
     },
     "execution_count": 33,
     "metadata": {},
     "output_type": "execute_result"
    }
   ],
   "source": [
    "add(2, 3)"
   ]
  },
  {
   "cell_type": "code",
   "execution_count": 34,
   "id": "dd8ba26f",
   "metadata": {},
   "outputs": [
    {
     "name": "stdout",
     "output_type": "stream",
     "text": [
      "Help on function add in module __main__:\n",
      "\n",
      "add(x: int, y: int) -> int\n",
      "\n"
     ]
    }
   ],
   "source": [
    "help(add)"
   ]
  },
  {
   "cell_type": "code",
   "execution_count": 35,
   "id": "b5b84b08",
   "metadata": {},
   "outputs": [],
   "source": [
    "def myFunc():\n",
    "    return 1, 2, 3"
   ]
  },
  {
   "cell_type": "code",
   "execution_count": 36,
   "id": "683e8b93",
   "metadata": {},
   "outputs": [],
   "source": [
    "a, b, c = myFunc()"
   ]
  },
  {
   "cell_type": "code",
   "execution_count": 37,
   "id": "5d9323a0",
   "metadata": {},
   "outputs": [
    {
     "data": {
      "text/plain": [
       "1"
      ]
     },
     "execution_count": 37,
     "metadata": {},
     "output_type": "execute_result"
    }
   ],
   "source": [
    "a"
   ]
  },
  {
   "cell_type": "code",
   "execution_count": 38,
   "id": "89a7404f",
   "metadata": {},
   "outputs": [
    {
     "data": {
      "text/plain": [
       "2"
      ]
     },
     "execution_count": 38,
     "metadata": {},
     "output_type": "execute_result"
    }
   ],
   "source": [
    "b"
   ]
  },
  {
   "cell_type": "code",
   "execution_count": 39,
   "id": "5f3f748c",
   "metadata": {},
   "outputs": [
    {
     "data": {
      "text/plain": [
       "3"
      ]
     },
     "execution_count": 39,
     "metadata": {},
     "output_type": "execute_result"
    }
   ],
   "source": [
    "c"
   ]
  },
  {
   "cell_type": "markdown",
   "id": "33f6fac6",
   "metadata": {},
   "source": [
    "### Create, add, subtract, division and multiplication function"
   ]
  },
  {
   "cell_type": "code",
   "execution_count": 40,
   "id": "814f663b",
   "metadata": {},
   "outputs": [],
   "source": [
    "def add(x:int, y:int) ->int:\n",
    "    return x + y\n",
    "\n",
    "def subtract(x:int, y:int) ->int:\n",
    "    return x - y\n",
    "\n",
    "def multiply(x:int, y:int) ->int:\n",
    "    return x * y\n",
    "\n",
    "def division(x:int, y:int) ->int:\n",
    "    return x / y"
   ]
  },
  {
   "cell_type": "markdown",
   "id": "75f281da",
   "metadata": {},
   "source": [
    "#### Create 2 variables, x and y\n",
    "#### Call input function to get values from the console\n",
    "#### Create another variable to check if the user wants to Add, Subtract, Multiply or Divide\n",
    "#### Call the appropriate function and return the value"
   ]
  },
  {
   "cell_type": "code",
   "execution_count": 41,
   "id": "f07c590e",
   "metadata": {},
   "outputs": [
    {
     "name": "stdout",
     "output_type": "stream",
     "text": [
      "Enter first number: 2\n",
      "Enter second number: 3\n",
      "Enter Add/Subtract/Multiply or DivideMultiply\n",
      "6\n"
     ]
    }
   ],
   "source": [
    "x = int(input(\"Enter first number: \"))\n",
    "y = int(input(\"Enter second number: \"))\n",
    "choice = input(\"Enter Add/Subtract/Multiply or Divide\")\n",
    "if choice == \"Add\":\n",
    "    print(add(x, y))\n",
    "elif choice == \"Subtract\":\n",
    "    print(subtract(x, y))\n",
    "elif choice == \"Multiply\":\n",
    "    print(multiply(x, y))\n",
    "elif choice == \"Divide\":\n",
    "    print(divide(x, y))"
   ]
  },
  {
   "cell_type": "markdown",
   "id": "671f52c0",
   "metadata": {},
   "source": [
    "### Function within a function"
   ]
  },
  {
   "cell_type": "code",
   "execution_count": 2,
   "id": "d9c70868",
   "metadata": {},
   "outputs": [],
   "source": [
    "def outer(num1):                 #encapsulation\n",
    "    def inner_increment(num1):   #private function (not exposed to the public)\n",
    "        return num1 + 1\n",
    "    num2 = inner_increment(num1)\n",
    "    return(num1, num2)"
   ]
  },
  {
   "cell_type": "code",
   "execution_count": 3,
   "id": "b32e194a",
   "metadata": {},
   "outputs": [
    {
     "data": {
      "text/plain": [
       "(10, 11)"
      ]
     },
     "execution_count": 3,
     "metadata": {},
     "output_type": "execute_result"
    }
   ],
   "source": [
    "outer(10)"
   ]
  },
  {
   "cell_type": "code",
   "execution_count": 4,
   "id": "327628e4",
   "metadata": {},
   "outputs": [
    {
     "name": "stdout",
     "output_type": "stream",
     "text": [
      "Help on function outer in module __main__:\n",
      "\n",
      "outer(num1)\n",
      "\n"
     ]
    }
   ],
   "source": [
    "help(outer)"
   ]
  },
  {
   "cell_type": "code",
   "execution_count": null,
   "id": "09661167",
   "metadata": {},
   "outputs": [],
   "source": []
  },
  {
   "cell_type": "code",
   "execution_count": null,
   "id": "e327addd",
   "metadata": {},
   "outputs": [],
   "source": []
  }
 ],
 "metadata": {
  "kernelspec": {
   "display_name": "Python 3 (ipykernel)",
   "language": "python",
   "name": "python3"
  },
  "language_info": {
   "codemirror_mode": {
    "name": "ipython",
    "version": 3
   },
   "file_extension": ".py",
   "mimetype": "text/x-python",
   "name": "python",
   "nbconvert_exporter": "python",
   "pygments_lexer": "ipython3",
   "version": "3.11.5"
  }
 },
 "nbformat": 4,
 "nbformat_minor": 5
}
