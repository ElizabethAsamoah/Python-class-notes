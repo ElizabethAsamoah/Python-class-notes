{
 "cells": [
  {
   "cell_type": "markdown",
   "id": "f8abf00c",
   "metadata": {},
   "source": [
    "### stack\n",
    "##### A list can be seen as a stack. A stack in computer science is a data structure, which has atleast two operations: one which can be used to put or push data on the stack, and another one to take away the most upper element of the stack"
   ]
  },
  {
   "cell_type": "code",
   "execution_count": 1,
   "id": "77ba967a",
   "metadata": {},
   "outputs": [
    {
     "data": {
      "text/plain": [
       "'free'"
      ]
     },
     "execution_count": 1,
     "metadata": {},
     "output_type": "execute_result"
    }
   ],
   "source": [
    "lst = [\"easy\", \"simple\", \"cheap\", \"free\"]\n",
    "lst[-1]"
   ]
  },
  {
   "cell_type": "code",
   "execution_count": 17,
   "id": "704ef0a1",
   "metadata": {},
   "outputs": [
    {
     "name": "stdout",
     "output_type": "stream",
     "text": [
      "None\n"
     ]
    },
    {
     "data": {
      "text/plain": [
       "[3, 5, 7, 42]"
      ]
     },
     "execution_count": 17,
     "metadata": {},
     "output_type": "execute_result"
    }
   ],
   "source": [
    "lst = [3, 5, 7]\n",
    "print(lst.append(42)) # append returns \"None\"\n",
    "lst"
   ]
  },
  {
   "cell_type": "code",
   "execution_count": 18,
   "id": "9d5984f0",
   "metadata": {},
   "outputs": [
    {
     "data": {
      "text/plain": [
       "3"
      ]
     },
     "execution_count": 18,
     "metadata": {},
     "output_type": "execute_result"
    }
   ],
   "source": [
    "lst.pop(0) # pop() removes an element from the list and returns the value"
   ]
  },
  {
   "cell_type": "code",
   "execution_count": 19,
   "id": "c84ba4fd",
   "metadata": {},
   "outputs": [
    {
     "data": {
      "text/plain": [
       "[5, 7, 42]"
      ]
     },
     "execution_count": 19,
     "metadata": {},
     "output_type": "execute_result"
    }
   ],
   "source": [
    "lst"
   ]
  },
  {
   "cell_type": "code",
   "execution_count": 20,
   "id": "eab61a06",
   "metadata": {},
   "outputs": [
    {
     "data": {
      "text/plain": [
       "42"
      ]
     },
     "execution_count": 20,
     "metadata": {},
     "output_type": "execute_result"
    }
   ],
   "source": [
    "lst.pop(2)"
   ]
  },
  {
   "cell_type": "code",
   "execution_count": 21,
   "id": "717d5256",
   "metadata": {},
   "outputs": [
    {
     "data": {
      "text/plain": [
       "[5, 7]"
      ]
     },
     "execution_count": 21,
     "metadata": {},
     "output_type": "execute_result"
    }
   ],
   "source": [
    "lst"
   ]
  },
  {
   "cell_type": "code",
   "execution_count": 10,
   "id": "7a269926",
   "metadata": {},
   "outputs": [
    {
     "data": {
      "text/plain": [
       "5"
      ]
     },
     "execution_count": 10,
     "metadata": {},
     "output_type": "execute_result"
    }
   ],
   "source": [
    "lst.pop()"
   ]
  },
  {
   "cell_type": "code",
   "execution_count": 11,
   "id": "31a5a78a",
   "metadata": {},
   "outputs": [
    {
     "data": {
      "text/plain": [
       "[3]"
      ]
     },
     "execution_count": 11,
     "metadata": {},
     "output_type": "execute_result"
    }
   ],
   "source": [
    "lst"
   ]
  },
  {
   "cell_type": "code",
   "execution_count": 12,
   "id": "1ae4822b",
   "metadata": {},
   "outputs": [
    {
     "data": {
      "text/plain": [
       "3"
      ]
     },
     "execution_count": 12,
     "metadata": {},
     "output_type": "execute_result"
    }
   ],
   "source": [
    "lst.pop()"
   ]
  },
  {
   "cell_type": "code",
   "execution_count": 13,
   "id": "857dba77",
   "metadata": {},
   "outputs": [
    {
     "data": {
      "text/plain": [
       "[]"
      ]
     },
     "execution_count": 13,
     "metadata": {},
     "output_type": "execute_result"
    }
   ],
   "source": [
    "lst"
   ]
  },
  {
   "cell_type": "code",
   "execution_count": 14,
   "id": "63b709f4",
   "metadata": {},
   "outputs": [
    {
     "ename": "IndexError",
     "evalue": "pop from empty list",
     "output_type": "error",
     "traceback": [
      "\u001b[1;31m---------------------------------------------------------------------------\u001b[0m",
      "\u001b[1;31mIndexError\u001b[0m                                Traceback (most recent call last)",
      "Cell \u001b[1;32mIn[14], line 1\u001b[0m\n\u001b[1;32m----> 1\u001b[0m lst\u001b[38;5;241m.\u001b[39mpop()\n",
      "\u001b[1;31mIndexError\u001b[0m: pop from empty list"
     ]
    }
   ],
   "source": [
    "lst.pop()"
   ]
  },
  {
   "cell_type": "code",
   "execution_count": 15,
   "id": "63de8024",
   "metadata": {},
   "outputs": [
    {
     "data": {
      "text/plain": [
       "[]"
      ]
     },
     "execution_count": 15,
     "metadata": {},
     "output_type": "execute_result"
    }
   ],
   "source": [
    "lst"
   ]
  },
  {
   "cell_type": "code",
   "execution_count": 22,
   "id": "c1e4ae78",
   "metadata": {},
   "outputs": [
    {
     "data": {
      "text/plain": [
       "[42, 98, 77, [8, 69]]"
      ]
     },
     "execution_count": 22,
     "metadata": {},
     "output_type": "execute_result"
    }
   ],
   "source": [
    "lst = [42, 98, 77]\n",
    "lst2 = [8, 69]\n",
    "lst.append(lst2)\n",
    "lst"
   ]
  },
  {
   "cell_type": "code",
   "execution_count": 23,
   "id": "300962e0",
   "metadata": {},
   "outputs": [
    {
     "data": {
      "text/plain": [
       "[42, 98, 77, 8, 69]"
      ]
     },
     "execution_count": 23,
     "metadata": {},
     "output_type": "execute_result"
    }
   ],
   "source": [
    "lst = [42, 98, 77]\n",
    "lst2 = [8, 69]\n",
    "lst.extend(lst2)\n",
    "lst"
   ]
  },
  {
   "cell_type": "code",
   "execution_count": 27,
   "id": "1ac87a06",
   "metadata": {},
   "outputs": [
    {
     "data": {
      "text/plain": [
       "['a', 'b', 'c', 'P', 'y', 't', 'h', 'o', 'n']"
      ]
     },
     "execution_count": 27,
     "metadata": {},
     "output_type": "execute_result"
    }
   ],
   "source": [
    "lst = [\"a\", \"b\", \"c\"]\n",
    "programming_langauge = \"Python\"\n",
    "lst.extend(programming_langauge)\n",
    "lst"
   ]
  },
  {
   "cell_type": "code",
   "execution_count": 33,
   "id": "fadaeeac",
   "metadata": {},
   "outputs": [
    {
     "data": {
      "text/plain": [
       "['Java', 'C', 'PHP', 'C#', 'Jython', 'Python', 'IronPython']"
      ]
     },
     "execution_count": 33,
     "metadata": {},
     "output_type": "execute_result"
    }
   ],
   "source": [
    "lst = [\"Java\", \"C\", \"PHP\"]\n",
    "t = [\"C#\", \"Jython\", \"Python\", \"IronPython\"]\n",
    "lst.extend(t)\n",
    "lst"
   ]
  },
  {
   "cell_type": "code",
   "execution_count": 34,
   "id": "ddfae6cf",
   "metadata": {},
   "outputs": [
    {
     "data": {
      "text/plain": [
       "['beginner', 'intermediate', 'advanced', 'novice', 'expert']"
      ]
     },
     "execution_count": 34,
     "metadata": {},
     "output_type": "execute_result"
    }
   ],
   "source": [
    "level = [\"beginner\", \"intermediate\", \"advanced\"]\n",
    "other_words = [\"novice\", \"expert\"]\n",
    "level + other_words"
   ]
  },
  {
   "cell_type": "code",
   "execution_count": 35,
   "id": "b4347dd7",
   "metadata": {},
   "outputs": [
    {
     "data": {
      "text/plain": [
       "[3, 4, 42]"
      ]
     },
     "execution_count": 35,
     "metadata": {},
     "output_type": "execute_result"
    }
   ],
   "source": [
    "lst1 = [3, 4]\n",
    "lst2 = lst1 + [42] # never ever do this\n",
    "lst2"
   ]
  },
  {
   "cell_type": "code",
   "execution_count": 38,
   "id": "4a738615",
   "metadata": {},
   "outputs": [
    {
     "data": {
      "text/plain": [
       "[3, 4, 42]"
      ]
     },
     "execution_count": 38,
     "metadata": {},
     "output_type": "execute_result"
    }
   ],
   "source": [
    "lst1 = [3, 4]\n",
    "lst1.append(42)\n",
    "lst1"
   ]
  },
  {
   "cell_type": "markdown",
   "id": "eeaaa793",
   "metadata": {},
   "source": [
    "#### In the following example, we will compare the different approaches and calculate their run times."
   ]
  },
  {
   "cell_type": "code",
   "execution_count": 39,
   "id": "58a76149",
   "metadata": {},
   "outputs": [
    {
     "name": "stdout",
     "output_type": "stream",
     "text": [
      "28.580474138259888\n"
     ]
    }
   ],
   "source": [
    "import time\n",
    "n = 100000\n",
    "start_time = time.time()\n",
    "l = []\n",
    "for i in range(n):\n",
    "    l = l + [i * 2]\n",
    "print(time.time() - start_time)"
   ]
  },
  {
   "cell_type": "code",
   "execution_count": 40,
   "id": "a0c3cef8",
   "metadata": {},
   "outputs": [
    {
     "name": "stdout",
     "output_type": "stream",
     "text": [
      "0.030448198318481445\n"
     ]
    }
   ],
   "source": [
    "start_time = time.time()\n",
    "l = []\n",
    "for i in range(n):\n",
    "    l += [i * 2]\n",
    "print(time.time() - start_time)"
   ]
  },
  {
   "cell_type": "code",
   "execution_count": 41,
   "id": "114051ab",
   "metadata": {},
   "outputs": [
    {
     "name": "stdout",
     "output_type": "stream",
     "text": [
      "0.016998291015625\n"
     ]
    }
   ],
   "source": [
    "start_time = time.time()\n",
    "l = []\n",
    "for i in range(n):\n",
    "    l.append(i * 2)\n",
    "print(time.time() - start_time)"
   ]
  },
  {
   "cell_type": "markdown",
   "id": "acaa21d1",
   "metadata": {},
   "source": [
    "#### remove method"
   ]
  },
  {
   "cell_type": "code",
   "execution_count": 45,
   "id": "ca0507db",
   "metadata": {},
   "outputs": [
    {
     "data": {
      "text/plain": [
       "['red', 'green', 'blue', 'green', 'yellow']"
      ]
     },
     "execution_count": 45,
     "metadata": {},
     "output_type": "execute_result"
    }
   ],
   "source": [
    "colors = [\"red\", \"green\", \"blue\", \"green\", \"yellow\"]\n",
    "colors"
   ]
  },
  {
   "cell_type": "code",
   "execution_count": 46,
   "id": "7428d81b",
   "metadata": {},
   "outputs": [],
   "source": [
    "colors.remove(\"green\")"
   ]
  },
  {
   "cell_type": "code",
   "execution_count": 47,
   "id": "fce08018",
   "metadata": {},
   "outputs": [
    {
     "data": {
      "text/plain": [
       "['red', 'blue', 'green', 'yellow']"
      ]
     },
     "execution_count": 47,
     "metadata": {},
     "output_type": "execute_result"
    }
   ],
   "source": [
    "colors"
   ]
  },
  {
   "cell_type": "markdown",
   "id": "11b54677",
   "metadata": {},
   "source": [
    "#### insert"
   ]
  },
  {
   "cell_type": "code",
   "execution_count": 48,
   "id": "917a1985",
   "metadata": {},
   "outputs": [
    {
     "data": {
      "text/plain": [
       "['German is spoken', 'in Germany', 'Austria', 'and', 'Switzerland']"
      ]
     },
     "execution_count": 48,
     "metadata": {},
     "output_type": "execute_result"
    }
   ],
   "source": [
    "lst = [\"German is spoken\", \"in Germany\", \"Austria\", \"Switzerland\"]\n",
    "lst.insert(3, \"and\")\n",
    "lst"
   ]
  },
  {
   "cell_type": "code",
   "execution_count": 59,
   "id": "6fb55e06",
   "metadata": {},
   "outputs": [],
   "source": [
    "abc = [\"a\", \"b\", \"c\"]\n",
    "abc.insert(len(abc), \"d\")"
   ]
  },
  {
   "cell_type": "code",
   "execution_count": 60,
   "id": "4aa11eda",
   "metadata": {},
   "outputs": [
    {
     "data": {
      "text/plain": [
       "['a', 'b', 'c', 'd']"
      ]
     },
     "execution_count": 60,
     "metadata": {},
     "output_type": "execute_result"
    }
   ],
   "source": [
    "abc"
   ]
  },
  {
   "cell_type": "code",
   "execution_count": null,
   "id": "a92be2bf",
   "metadata": {},
   "outputs": [],
   "source": []
  }
 ],
 "metadata": {
  "kernelspec": {
   "display_name": "Python 3 (ipykernel)",
   "language": "python",
   "name": "python3"
  },
  "language_info": {
   "codemirror_mode": {
    "name": "ipython",
    "version": 3
   },
   "file_extension": ".py",
   "mimetype": "text/x-python",
   "name": "python",
   "nbconvert_exporter": "python",
   "pygments_lexer": "ipython3",
   "version": "3.11.3"
  }
 },
 "nbformat": 4,
 "nbformat_minor": 5
}
