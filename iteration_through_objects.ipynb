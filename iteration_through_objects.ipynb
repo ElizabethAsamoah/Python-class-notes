{
 "cells": [
  {
   "cell_type": "markdown",
   "id": "ae822130",
   "metadata": {},
   "source": [
    "### Different kinds of loops\n",
    "* Count-controlled loops: A construction for repeating a loop a certain number of times. - Python doesn't have this kind of loop:\n",
    "###### example: for(i=0; i<=n; i++)\n",
    "* Condition-controlled loop: A loop will be repeated until a given condition changes. i.e. changes from True to False or from False to True, depending on the kind of loop. Example: 'while loops' and 'do while' loops\n",
    "* Collection-controlled loop: This is a special construct which allows looping through the elements of a 'collection'. Using a \"for loop\""
   ]
  },
  {
   "cell_type": "markdown",
   "id": "b9d27610",
   "metadata": {},
   "source": [
    "### while loop"
   ]
  },
  {
   "cell_type": "code",
   "execution_count": 6,
   "id": "2c1e9bf7",
   "metadata": {},
   "outputs": [
    {
     "name": "stdout",
     "output_type": "stream",
     "text": [
      "True\n",
      "total sum:  1\n",
      "counter:  2\n",
      "total sum:  3\n",
      "counter:  3\n",
      "total sum:  6\n",
      "counter:  4\n",
      "total sum:  10\n",
      "counter:  5\n",
      "total sum:  15\n",
      "counter:  6\n",
      "total sum:  21\n",
      "counter:  7\n",
      "total sum:  28\n",
      "counter:  8\n",
      "total sum:  36\n",
      "counter:  9\n",
      "total sum:  45\n",
      "counter:  10\n",
      "total sum:  55\n",
      "counter:  11\n",
      "total sum:  66\n",
      "counter:  12\n",
      "total sum:  78\n",
      "counter:  13\n",
      "total sum:  91\n",
      "counter:  14\n",
      "total sum:  105\n",
      "counter:  15\n",
      "total sum:  120\n",
      "counter:  16\n",
      "total sum:  136\n",
      "counter:  17\n",
      "total sum:  153\n",
      "counter:  18\n",
      "total sum:  171\n",
      "counter:  19\n",
      "total sum:  190\n",
      "counter:  20\n",
      "total sum:  210\n",
      "counter:  21\n",
      "total sum:  231\n",
      "counter:  22\n",
      "total sum:  253\n",
      "counter:  23\n",
      "total sum:  276\n",
      "counter:  24\n",
      "total sum:  300\n",
      "counter:  25\n",
      "total sum:  325\n",
      "counter:  26\n",
      "total sum:  351\n",
      "counter:  27\n",
      "total sum:  378\n",
      "counter:  28\n",
      "total sum:  406\n",
      "counter:  29\n",
      "total sum:  435\n",
      "counter:  30\n",
      "total sum:  465\n",
      "counter:  31\n",
      "total sum:  496\n",
      "counter:  32\n",
      "total sum:  528\n",
      "counter:  33\n",
      "total sum:  561\n",
      "counter:  34\n",
      "total sum:  595\n",
      "counter:  35\n",
      "total sum:  630\n",
      "counter:  36\n",
      "total sum:  666\n",
      "counter:  37\n",
      "total sum:  703\n",
      "counter:  38\n",
      "total sum:  741\n",
      "counter:  39\n",
      "total sum:  780\n",
      "counter:  40\n",
      "total sum:  820\n",
      "counter:  41\n",
      "total sum:  861\n",
      "counter:  42\n",
      "total sum:  903\n",
      "counter:  43\n",
      "total sum:  946\n",
      "counter:  44\n",
      "total sum:  990\n",
      "counter:  45\n",
      "total sum:  1035\n",
      "counter:  46\n",
      "total sum:  1081\n",
      "counter:  47\n",
      "total sum:  1128\n",
      "counter:  48\n",
      "total sum:  1176\n",
      "counter:  49\n",
      "total sum:  1225\n",
      "counter:  50\n",
      "total sum:  1275\n",
      "counter:  51\n",
      "total sum:  1326\n",
      "counter:  52\n",
      "total sum:  1378\n",
      "counter:  53\n",
      "total sum:  1431\n",
      "counter:  54\n",
      "total sum:  1485\n",
      "counter:  55\n",
      "total sum:  1540\n",
      "counter:  56\n",
      "total sum:  1596\n",
      "counter:  57\n",
      "total sum:  1653\n",
      "counter:  58\n",
      "total sum:  1711\n",
      "counter:  59\n",
      "total sum:  1770\n",
      "counter:  60\n",
      "total sum:  1830\n",
      "counter:  61\n",
      "total sum:  1891\n",
      "counter:  62\n",
      "total sum:  1953\n",
      "counter:  63\n",
      "total sum:  2016\n",
      "counter:  64\n",
      "total sum:  2080\n",
      "counter:  65\n",
      "total sum:  2145\n",
      "counter:  66\n",
      "total sum:  2211\n",
      "counter:  67\n",
      "total sum:  2278\n",
      "counter:  68\n",
      "total sum:  2346\n",
      "counter:  69\n",
      "total sum:  2415\n",
      "counter:  70\n",
      "total sum:  2485\n",
      "counter:  71\n",
      "total sum:  2556\n",
      "counter:  72\n",
      "total sum:  2628\n",
      "counter:  73\n",
      "total sum:  2701\n",
      "counter:  74\n",
      "total sum:  2775\n",
      "counter:  75\n",
      "total sum:  2850\n",
      "counter:  76\n",
      "total sum:  2926\n",
      "counter:  77\n",
      "total sum:  3003\n",
      "counter:  78\n",
      "total sum:  3081\n",
      "counter:  79\n",
      "total sum:  3160\n",
      "counter:  80\n",
      "total sum:  3240\n",
      "counter:  81\n",
      "total sum:  3321\n",
      "counter:  82\n",
      "total sum:  3403\n",
      "counter:  83\n",
      "total sum:  3486\n",
      "counter:  84\n",
      "total sum:  3570\n",
      "counter:  85\n",
      "total sum:  3655\n",
      "counter:  86\n",
      "total sum:  3741\n",
      "counter:  87\n",
      "total sum:  3828\n",
      "counter:  88\n",
      "total sum:  3916\n",
      "counter:  89\n",
      "total sum:  4005\n",
      "counter:  90\n",
      "total sum:  4095\n",
      "counter:  91\n",
      "total sum:  4186\n",
      "counter:  92\n",
      "total sum:  4278\n",
      "counter:  93\n",
      "total sum:  4371\n",
      "counter:  94\n",
      "total sum:  4465\n",
      "counter:  95\n",
      "total sum:  4560\n",
      "counter:  96\n",
      "total sum:  4656\n",
      "counter:  97\n",
      "total sum:  4753\n",
      "counter:  98\n",
      "total sum:  4851\n",
      "counter:  99\n",
      "total sum:  4950\n",
      "counter:  100\n",
      "total sum:  5050\n",
      "counter:  101\n"
     ]
    }
   ],
   "source": [
    "# The following script calculates the sum of \n",
    "# numbers from 1 to 100 using while loop\n",
    "n = 100\n",
    "totalSum = 0\n",
    "counter = 1\n",
    "print(counter <= n)\n",
    "while (counter <= n):\n",
    "    totalSum += counter\n",
    "    print(\"total sum: \", totalSum)\n",
    "    counter += 1\n",
    "    print(\"counter: \", counter)\n",
    "\n",
    "# print(\"Sum of 1 until \" + str(n) + \" results in \" + str(totalSum))"
   ]
  },
  {
   "cell_type": "markdown",
   "id": "014d52d8",
   "metadata": {},
   "source": [
    "##### Write a program, which asks for the initial balance K0 for the interest rate. The program shall calculate the new capital K1 after one year including the Interest.\n",
    "##### Extend the program with the while-loop, so that the capital Kn after a period of n years can be calculated"
   ]
  },
  {
   "cell_type": "code",
   "execution_count": 7,
   "id": "16132985",
   "metadata": {},
   "outputs": [
    {
     "name": "stdout",
     "output_type": "stream",
     "text": [
      "Starting capital? 1000\n",
      "Interest rate? 2.5\n",
      "Number of years? 5\n",
      "1 1025.0\n",
      "2 1050.625\n",
      "3 1076.890625\n",
      "4 1103.812890625\n",
      "5 1131.408212890625\n",
      "Capital after 5ys: 1131.408212890625\n"
     ]
    }
   ],
   "source": [
    "K = float(input(\"Starting capital? \"))\n",
    "p = float(input(\"Interest rate? \"))\n",
    "n = int(input(\"Number of years? \"))\n",
    "\n",
    "i = 0\n",
    "while (i < n):\n",
    "    K += K * p / 100.00\n",
    "    i += 1\n",
    "    print(i, K)\n",
    "\n",
    "print(\"Capital after \" + str(n) + \"ys: \" + str(K))\n",
    "    "
   ]
  },
  {
   "cell_type": "markdown",
   "id": "e3d1608f",
   "metadata": {},
   "source": [
    "#### A guessing number game using while loop"
   ]
  },
  {
   "cell_type": "code",
   "execution_count": 9,
   "id": "acbac1ee",
   "metadata": {},
   "outputs": [
    {
     "name": "stdout",
     "output_type": "stream",
     "text": [
      "New Number: 2\n",
      "Number too small\n",
      "New Number: 0\n",
      "Sorry that your giving up\n"
     ]
    }
   ],
   "source": [
    "import random\n",
    "upperBound = 20\n",
    "lowerBound = 1\n",
    "toBeGuessed = random.randint(lowerBound, upperBound)\n",
    "guess = 0\n",
    "while (guess != toBeGuessed):\n",
    "    guess = int(input(\"New Number: \"))\n",
    "    if guess > 0:\n",
    "        if guess > toBeGuessed:\n",
    "            print(\"Number too large\")\n",
    "        elif guess < toBeGuessed:\n",
    "            print(\"Number too small\")\n",
    "    else:\n",
    "        print(\"Sorry that your giving up\")\n",
    "        break\n",
    "else:\n",
    "    print(\"Congratulations. You made it!\")"
   ]
  },
  {
   "cell_type": "markdown",
   "id": "a601f74d",
   "metadata": {},
   "source": [
    " #### Generate a fibonacci sequence using while loop"
   ]
  },
  {
   "cell_type": "code",
   "execution_count": 12,
   "id": "26917d56",
   "metadata": {},
   "outputs": [
    {
     "name": "stdout",
     "output_type": "stream",
     "text": [
      "Enter the number of terms for the fibonacci sequence: 20\n",
      "0\n",
      "1\n",
      "1\n",
      "2\n",
      "3\n",
      "5\n",
      "8\n",
      "13\n",
      "21\n",
      "34\n",
      "55\n",
      "89\n",
      "144\n",
      "233\n",
      "377\n",
      "610\n",
      "987\n",
      "1597\n",
      "2584\n",
      "4181\n",
      "\n"
     ]
    }
   ],
   "source": [
    "nTerms = int(input(\"Enter the number of terms for the fibonacci sequence: \"))\n",
    "\n",
    "old, new = 0, 1\n",
    "count = 0\n",
    "while count < nTerms:\n",
    "    print(old, end= \" \") \n",
    "    old, new = new, old + new # update term1 and term2\n",
    "    count +=1\n",
    "\n",
    "print()\n",
    "    "
   ]
  },
  {
   "cell_type": "markdown",
   "id": "521a1c6b",
   "metadata": {},
   "source": [
    "#### Generate a collatz sequence\n",
    "* Start with a positive integer n\n",
    "* if n is even, divide it by 2\n",
    "* if n is odd, multiply by 3 and add 1\n",
    "* repeat the process with the calculated value as the new value of n, and continue until n becomes 1"
   ]
  },
  {
   "cell_type": "code",
   "execution_count": 13,
   "id": "23f3b565",
   "metadata": {},
   "outputs": [
    {
     "name": "stdout",
     "output_type": "stream",
     "text": [
      "Enter a positive integer: 11\n",
      "Collatz sequence for 11\n",
      "34\n",
      "17\n",
      "52\n",
      "26\n",
      "13\n",
      "40\n",
      "20\n",
      "10\n",
      "5\n",
      "16\n",
      "8\n",
      "4\n",
      "2\n",
      "1\n"
     ]
    }
   ],
   "source": [
    "n = int(input(\"Enter a positive integer: \"))\n",
    "if n <=0 :\n",
    "    print(\"Please enter a positive integer.\")\n",
    "else:\n",
    "    print(f\"Collatz sequence for {n}\")\n",
    "    while n != 1:\n",
    "        if n % 2 == 0:\n",
    "            n = n // 2\n",
    "        else:\n",
    "            n = 3 * n + 1\n",
    "        print(n)"
   ]
  },
  {
   "attachments": {
    "for_syntax.png": {
     "image/png": "[encoded data removed]"
    }
   },
   "cell_type": "markdown",
   "id": "62bc432a",
   "metadata": {},
   "source": [
    "#### For loops\n",
    "A for loop in Python is used for iterating over a sequence (such as lists, tuple, string or range) or other iterable objects. It's a fundamental control structure in programming that allows you to repeat a block of code a specific number of times or iterate through the elements of a sequence.\n",
    "###### Syntax of the For Loop\n",
    "![for_syntax.png](attachment:for_syntax.png)"
   ]
  },
  {
   "cell_type": "code",
   "execution_count": 14,
   "id": "c1449a90",
   "metadata": {},
   "outputs": [
    {
     "name": "stdout",
     "output_type": "stream",
     "text": [
      "beginner\n",
      "novice\n",
      "intermediate\n",
      "advanced\n",
      "expert\n"
     ]
    }
   ],
   "source": [
    "levels = (\"beginner\", \"novice\", \"intermediate\", \"advanced\", \"expert\")\n",
    "for level in levels:\n",
    "    print(level)"
   ]
  },
  {
   "cell_type": "code",
   "execution_count": 15,
   "id": "4a31c570",
   "metadata": {},
   "outputs": [
    {
     "name": "stdout",
     "output_type": "stream",
     "text": [
      "C\n",
      "C++\n",
      "Perl\n",
      "Python\n"
     ]
    }
   ],
   "source": [
    "languages = [\"C\", \"C++\", \"Perl\", \"Python\"]\n",
    "for language in languages:\n",
    "    print(language)"
   ]
  },
  {
   "cell_type": "code",
   "execution_count": 21,
   "id": "9f5791be",
   "metadata": {},
   "outputs": [
    {
     "name": "stdout",
     "output_type": "stream",
     "text": [
      "Great, delicious bacon\n",
      "Great, delicious eggs\n",
      "No more spam please!\n",
      "Great, delicious spam\n",
      "Great, delicious nuts\n",
      "I am glad: No Spam\n",
      "Finally, we are done stuffing\n"
     ]
    }
   ],
   "source": [
    "edibles = [\"bacon\", \"eggs\", \"spam\", \"nuts\"]\n",
    "for food in edibles:\n",
    "    if food == \"spam\":\n",
    "        print(\"No more spam please!\")\n",
    "        break\n",
    "    print(\"Great, delicious \" + food)\n",
    "else:\n",
    "    print(\"I am glad: No Spam\")\n",
    "print(\"Finally, we are done stuffing\")"
   ]
  },
  {
   "cell_type": "markdown",
   "id": "a808b5b2",
   "metadata": {},
   "source": [
    "### range() function"
   ]
  },
  {
   "cell_type": "code",
   "execution_count": 22,
   "id": "e3e79540",
   "metadata": {},
   "outputs": [
    {
     "data": {
      "text/plain": [
       "range(0, 5)"
      ]
     },
     "execution_count": 22,
     "metadata": {},
     "output_type": "execute_result"
    }
   ],
   "source": [
    "range(5)"
   ]
  },
  {
   "cell_type": "code",
   "execution_count": 26,
   "id": "e66628f2",
   "metadata": {},
   "outputs": [
    {
     "name": "stdout",
     "output_type": "stream",
     "text": [
      "0\n",
      "1\n",
      "2\n",
      "3\n",
      "4\n"
     ]
    }
   ],
   "source": [
    "for i in range(5):\n",
    "    print(i)"
   ]
  },
  {
   "cell_type": "code",
   "execution_count": 27,
   "id": "c88d7288",
   "metadata": {},
   "outputs": [
    {
     "data": {
      "text/plain": [
       "[0, 1, 2, 3, 4, 5, 6, 7, 8, 9]"
      ]
     },
     "execution_count": 27,
     "metadata": {},
     "output_type": "execute_result"
    }
   ],
   "source": [
    "list(range(10))"
   ]
  },
  {
   "cell_type": "markdown",
   "id": "342aa96b",
   "metadata": {},
   "source": [
    "##### iterate over lists with range()"
   ]
  },
  {
   "cell_type": "code",
   "execution_count": 31,
   "id": "b2f65300",
   "metadata": {},
   "outputs": [
    {
     "name": "stdout",
     "output_type": "stream",
     "text": [
      "0 --> 0\n",
      "1 --> 1\n",
      "2 --> 1\n",
      "3 --> 2\n",
      "4 --> 3\n",
      "5 --> 5\n",
      "6 --> 8\n",
      "7 --> 13\n",
      "8 --> 21\n"
     ]
    }
   ],
   "source": [
    "fibonacci = [0, 1, 1, 2, 3, 5, 8, 13, 21]\n",
    "for i in range(len(fibonacci)):\n",
    "    print(i, \"-->\", fibonacci[i])"
   ]
  },
  {
   "cell_type": "markdown",
   "id": "c620109f",
   "metadata": {},
   "source": [
    "#### Generate Fibonacci sequence using for loop"
   ]
  },
  {
   "cell_type": "code",
   "execution_count": 33,
   "id": "8bf3e7ac",
   "metadata": {},
   "outputs": [
    {
     "data": {
      "text/plain": [
       "[4, 5, 6, 7, 8, 9]"
      ]
     },
     "execution_count": 33,
     "metadata": {},
     "output_type": "execute_result"
    }
   ],
   "source": [
    "# range(begin, end)\n",
    "list(range(4, 10))"
   ]
  },
  {
   "cell_type": "code",
   "execution_count": 37,
   "id": "a8884643",
   "metadata": {},
   "outputs": [
    {
     "data": {
      "text/plain": [
       "[50, 45, 40, 35, 30, 25, 20, 15, 10, 5]"
      ]
     },
     "execution_count": 37,
     "metadata": {},
     "output_type": "execute_result"
    }
   ],
   "source": [
    "# range(begin, end, step)\n",
    "list(range(50, 4, -5))"
   ]
  },
  {
   "cell_type": "code",
   "execution_count": 45,
   "id": "c3b56389",
   "metadata": {},
   "outputs": [
    {
     "name": "stdout",
     "output_type": "stream",
     "text": [
      "Enter the number of fibonacci numbers to generate: 15\n",
      "Fibonacci Sequence: \n",
      "0 1 1 2 3 5 8 13 21 34 55 89 144 233 377 "
     ]
    }
   ],
   "source": [
    "n = int(input(\"Enter the number of fibonacci numbers to generate: \"))\n",
    "fibonacciSequence = [0, 1]\n",
    "for i in range(2, n):\n",
    "#     print(i)\n",
    "    nextNumber = fibonacciSequence[-1] + fibonacciSequence[-2]\n",
    "    fibonacciSequence.append(nextNumber)\n",
    "\n",
    "print(\"Fibonacci Sequence: \")\n",
    "for number in fibonacciSequence[:n]:\n",
    "#     print(number)\n",
    "    print(number, end=\" \")\n",
    "    \n",
    "# for number in range(len(fibonacciSequence)):\n",
    "#     print(number)\n"
   ]
  },
  {
   "cell_type": "code",
   "execution_count": null,
   "id": "e5196e32",
   "metadata": {},
   "outputs": [],
   "source": []
  }
 ],
 "metadata": {
  "kernelspec": {
   "display_name": "Python 3 (ipykernel)",
   "language": "python",
   "name": "python3"
  },
  "language_info": {
   "codemirror_mode": {
    "name": "ipython",
    "version": 3
   },
   "file_extension": ".py",
   "mimetype": "text/x-python",
   "name": "python",
   "nbconvert_exporter": "python",
   "pygments_lexer": "ipython3",
   "version": "3.11.5"
  }
 },
 "nbformat": 4,
 "nbformat_minor": 5
}
