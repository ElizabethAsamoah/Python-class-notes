{
 "cells": [
  {
   "cell_type": "markdown",
   "id": "c131ffb5",
   "metadata": {},
   "source": [
    "### Sequential Data Types in Python\n",
    "'''\n",
    "strings\n",
    "byte sequences\n",
    "byte arrays\n",
    "lists\n",
    "tuples\n",
    "range objects\n",
    "'''"
   ]
  },
  {
   "cell_type": "code",
   "execution_count": 7,
   "id": "ec6d3cc0",
   "metadata": {},
   "outputs": [
    {
     "name": "stdout",
     "output_type": "stream",
     "text": [
      "L S !\n"
     ]
    }
   ],
   "source": [
    "text = \"Lists and Strings can be accessed via indices!\"\n",
    "print(text[0], text[10], text[-1])"
   ]
  },
  {
   "cell_type": "markdown",
   "id": "c1d56443",
   "metadata": {},
   "source": [
    "# Create a list and access the elements in a list via indices\n",
    "# Lists are created using [] - Square brackets\n",
    "# Lists are mutable\n",
    "# Strings in Lists are Immutable"
   ]
  },
  {
   "cell_type": "code",
   "execution_count": 9,
   "id": "a4dbece5",
   "metadata": {},
   "outputs": [
    {
     "name": "stdout",
     "output_type": "stream",
     "text": [
      "Vienna Paris Hamburg Hamburg\n",
      "V n Z\n",
      "6\n",
      "7\n",
      "8\n",
      "21\n",
      "[]\n",
      "First Name is Marc\n",
      "12345\n",
      "Last Name is:  Mayer\n",
      "c\n",
      "['Python', 'C', 'C++', 'Java', 'Perl']\n",
      "['Python', 'C', 'C++', 'Java', 'Lisp']\n",
      "['Python', 'C', 'C++', 'Java', 'Lisp', 'Haskell']\n",
      "['Python', 'C', 'Perl', 'C++', 'Java', 'Lisp', 'Haskell']\n",
      "['bananas']\n"
     ]
    }
   ],
   "source": [
    "\n",
    "cities = [\"Vienna\", \"London\", \"Paris\",\n",
    "          \"Berlin\", \"Zurich\", \"Hamburg\"]\n",
    "print(cities[0], cities[2], cities[-1], cities[5])\n",
    "# Access individual chaarcters in an element inside a list\n",
    "print(cities[0][0], cities[1][-1], cities[4][0])\n",
    "print(len(cities))\n",
    "\n",
    "countries = [\"Germany\", \"Switzerland\", \"Austria\", \"France\", \"Belgium\",\n",
    "             \"Netherlands\", \"England\"]\n",
    "\n",
    "print(len(countries))\n",
    "\n",
    "# Fibonacci Sequence\n",
    "fib = [1, 1, 2, 3, 5, 8, 13, 21]\n",
    "print(len(fib))\n",
    "print(fib[-1])\n",
    "\n",
    "emptyList = []\n",
    "print(emptyList)\n",
    "\n",
    "# Sublists\n",
    "# Lists cam have sublists as elements\n",
    "\n",
    "person = [[\"Marc\", \"Mayer\"],\n",
    "          [\"17, Oxford Str\", \"12345\", \"London\"],\n",
    "          \"07876-7876\"]\n",
    "\n",
    "print(\"First Name is \" + person[0][0])\n",
    "print(person[1][1])\n",
    "print(\"Last Name is: \", person[0][1])\n",
    "\n",
    "# Complex List\n",
    "complex_list = [['a', [\"b\", [\"c\", \"x\"]]]]\n",
    "# print c\n",
    "print(complex_list[0][1][1][0])\n",
    "\n",
    "# Changing List\n",
    "languages = [\"Python\", \"C\", \"C++\", \"Java\", \"Perl\"]\n",
    "print(languages)\n",
    "languages[4] = \"Lisp\"\n",
    "print(languages)\n",
    "\n",
    "languages.append(\"Haskell\")\n",
    "print(languages)\n",
    "\n",
    "languages.insert(2, \"Perl\")\n",
    "print(languages)\n",
    "\n",
    "# Exercise\n",
    "shopping_list = [\"milk\", \"yogurt\", \"egg\", \"butter\", \"bread\", \"bananas\"]\n",
    "cart = []\n",
    "# pop() removes the last element of the list and returns it\n",
    "# article = shopping_list.pop()\n",
    "# print(type(article))\n",
    "# print(article, shopping_list)\n",
    "# cart.append(article)\n",
    "# print(cart)\n",
    "# print(type(cart))\n",
    "cart.append(shopping_list.pop())\n",
    "print(cart)\n"
   ]
  },
  {
   "cell_type": "markdown",
   "id": "d9d98fd4",
   "metadata": {},
   "source": [
    "# Tuples\n",
    "'''\n",
    "Benefits of Tuples:\n",
    "* Tuples are faster than lists\n",
    "* If you know some data doesn't have to be changed, you should use\n",
    "tuples instead of lists, because it protects your data against accidental changes\n",
    "'''"
   ]
  },
  {
   "cell_type": "code",
   "execution_count": 10,
   "id": "15bbac55",
   "metadata": {},
   "outputs": [
    {
     "name": "stdout",
     "output_type": "stream",
     "text": [
      "tuples\n"
     ]
    },
    {
     "ename": "TypeError",
     "evalue": "'tuple' object does not support item assignment",
     "output_type": "error",
     "traceback": [
      "\u001b[1;31m---------------------------------------------------------------------------\u001b[0m",
      "\u001b[1;31mTypeError\u001b[0m                                 Traceback (most recent call last)",
      "Cell \u001b[1;32mIn[10], line 3\u001b[0m\n\u001b[0;32m      1\u001b[0m tpl \u001b[38;5;241m=\u001b[39m (\u001b[38;5;124m\"\u001b[39m\u001b[38;5;124mtuples\u001b[39m\u001b[38;5;124m\"\u001b[39m, \u001b[38;5;124m\"\u001b[39m\u001b[38;5;124mare\u001b[39m\u001b[38;5;124m\"\u001b[39m, \u001b[38;5;124m\"\u001b[39m\u001b[38;5;124mimmutable\u001b[39m\u001b[38;5;124m\"\u001b[39m)\n\u001b[0;32m      2\u001b[0m \u001b[38;5;28mprint\u001b[39m(tpl[\u001b[38;5;241m0\u001b[39m])\n\u001b[1;32m----> 3\u001b[0m tpl[\u001b[38;5;241m0\u001b[39m] \u001b[38;5;241m=\u001b[39m \u001b[38;5;124m\"\u001b[39m\u001b[38;5;124mAssignments are not possible in Tuples\u001b[39m\u001b[38;5;124m\"\u001b[39m\n",
      "\u001b[1;31mTypeError\u001b[0m: 'tuple' object does not support item assignment"
     ]
    }
   ],
   "source": [
    "tpl = (\"tuples\", \"are\", \"immutable\")\n",
    "print(tpl[0])\n",
    "tpl[0] = \"Assignments are not possible in Tuples\" # You will get an error"
   ]
  },
  {
   "cell_type": "code",
   "execution_count": 11,
   "id": "0b8b3e66",
   "metadata": {},
   "outputs": [
    {
     "name": "stdout",
     "output_type": "stream",
     "text": [
      "P\n",
      "Python\n",
      "n! is great\n",
      "Python! is great\n",
      "Python! is \n",
      "Enter a slogan valuePython is great\n",
      "Python\n"
     ]
    }
   ],
   "source": [
    "'''\n",
    "slicing:\n",
    "slicing is implemented in any programming language and it's also referred to as \n",
    "subarray.\n",
    "\":\" - is used for slicing syntax in python (colon operator)\n",
    "Note: Everytime you want to extract part of a string or a list in python,\n",
    "you should use the slice operator\n",
    "'''\n",
    "\n",
    "slogan = \"Python! is great\"\n",
    "print(slogan[0]) # This returns P\n",
    "first_six = slogan[0:6] # start at 0 element and stop at the 6th element\n",
    "print(first_six)\n",
    "starting_at_five = slogan[5:]\n",
    "print(starting_at_five)\n",
    "print(slogan[:])\n",
    "without_last_five = slogan[0:-5]\n",
    "print(without_last_five)\n",
    "\n",
    "# input function\n",
    "strInputSlogan = input(\"Enter a slogan value\")\n",
    "print(strInputSlogan[0:6])"
   ]
  },
  {
   "cell_type": "markdown",
   "id": "7b1c4751",
   "metadata": {},
   "source": [
    "### slicing in lists"
   ]
  },
  {
   "cell_type": "code",
   "execution_count": 12,
   "id": "aa33a721",
   "metadata": {},
   "outputs": [],
   "source": [
    "cities = [\"Vienna\", \"London\", \"Paris\", \"Berlin\", \"Zurich\", \"Hamburg\"]\n",
    "first_three = cities[0:3]"
   ]
  },
  {
   "cell_type": "code",
   "execution_count": 15,
   "id": "2b5d5425",
   "metadata": {},
   "outputs": [
    {
     "data": {
      "text/plain": [
       "['Vienna', 'London', 'Paris']"
      ]
     },
     "execution_count": 15,
     "metadata": {},
     "output_type": "execute_result"
    }
   ],
   "source": [
    "first_three"
   ]
  },
  {
   "cell_type": "markdown",
   "id": "c5a89964",
   "metadata": {},
   "source": [
    "#### slicing with 3 arguments - [begin: end: step]\n",
    "#### s[begin], s[begin + 1 * step], ...s[begin + i * step]"
   ]
  },
  {
   "cell_type": "code",
   "execution_count": 16,
   "id": "f5151dcf",
   "metadata": {},
   "outputs": [
    {
     "data": {
      "text/plain": [
       "'Ph d n  e'"
      ]
     },
     "execution_count": 16,
     "metadata": {},
     "output_type": "execute_result"
    }
   ],
   "source": [
    "slogan = \"Python under linux is great\"\n",
    "slogan[::3] # Ph d n e"
   ]
  },
  {
   "cell_type": "code",
   "execution_count": 23,
   "id": "2b91c870",
   "metadata": {},
   "outputs": [],
   "source": [
    "s = \"TPoyrtohnotno closu rtshees lianr gTeosrto nCtiot yb yi nB oCdaennasdeao\" # word salad"
   ]
  },
  {
   "cell_type": "code",
   "execution_count": 24,
   "id": "ab791919",
   "metadata": {},
   "outputs": [
    {
     "data": {
      "text/plain": [
       "'TPoyrtohnotno closu rtshees lianr gTeosrto nCtiot yb yi nB oCdaennasdeao'"
      ]
     },
     "execution_count": 24,
     "metadata": {},
     "output_type": "execute_result"
    }
   ],
   "source": [
    "s"
   ]
  },
  {
   "cell_type": "code",
   "execution_count": 25,
   "id": "ad0cde6a",
   "metadata": {},
   "outputs": [
    {
     "data": {
      "text/plain": [
       "'Torontocourseslargest City in Canada'"
      ]
     },
     "execution_count": 25,
     "metadata": {},
     "output_type": "execute_result"
    }
   ],
   "source": [
    "s[::2]"
   ]
  },
  {
   "cell_type": "code",
   "execution_count": 26,
   "id": "0e2773d2",
   "metadata": {},
   "outputs": [
    {
     "data": {
      "text/plain": [
       "'Python ls the in Toronto by Bodenseo'"
      ]
     },
     "execution_count": 26,
     "metadata": {},
     "output_type": "execute_result"
    }
   ],
   "source": [
    "s[1::2]"
   ]
  },
  {
   "cell_type": "markdown",
   "id": "2264b6e2",
   "metadata": {},
   "source": [
    "### Length\n",
    "##### Length of a sequence, i.e. a list, a string or a tuple can be determined with a function len()\n",
    "##### For strings, it counts the number of characters, and for lists or tuples the number of elements are counted"
   ]
  },
  {
   "cell_type": "code",
   "execution_count": 27,
   "id": "cf90b826",
   "metadata": {},
   "outputs": [
    {
     "data": {
      "text/plain": [
       "11"
      ]
     },
     "execution_count": 27,
     "metadata": {},
     "output_type": "execute_result"
    }
   ],
   "source": [
    "txt = \"Hello World\"\n",
    "len(txt)"
   ]
  },
  {
   "cell_type": "code",
   "execution_count": 28,
   "id": "58fdc49b",
   "metadata": {},
   "outputs": [],
   "source": [
    "a = [\"Swen\", 45, 3.54, \"basel\"]"
   ]
  },
  {
   "cell_type": "code",
   "execution_count": 29,
   "id": "e39f6676",
   "metadata": {},
   "outputs": [
    {
     "data": {
      "text/plain": [
       "4"
      ]
     },
     "execution_count": 29,
     "metadata": {},
     "output_type": "execute_result"
    }
   ],
   "source": [
    "len(a)"
   ]
  },
  {
   "cell_type": "markdown",
   "id": "9b558384",
   "metadata": {},
   "source": [
    "#### Check if an element is contained in a list"
   ]
  },
  {
   "cell_type": "code",
   "execution_count": 33,
   "id": "7f5688cd",
   "metadata": {},
   "outputs": [
    {
     "data": {
      "text/plain": [
       "True"
      ]
     },
     "execution_count": 33,
     "metadata": {},
     "output_type": "execute_result"
    }
   ],
   "source": [
    "abc = [\"a\", \"b\", \"c\", \"d\", \"e\"]\n",
    "\"a\" in abc"
   ]
  },
  {
   "cell_type": "code",
   "execution_count": 34,
   "id": "72524327",
   "metadata": {},
   "outputs": [
    {
     "data": {
      "text/plain": [
       "False"
      ]
     },
     "execution_count": 34,
     "metadata": {},
     "output_type": "execute_result"
    }
   ],
   "source": [
    "\"a\" not in abc"
   ]
  },
  {
   "cell_type": "code",
   "execution_count": 35,
   "id": "1ef1d44d",
   "metadata": {},
   "outputs": [
    {
     "data": {
      "text/plain": [
       "True"
      ]
     },
     "execution_count": 35,
     "metadata": {},
     "output_type": "execute_result"
    }
   ],
   "source": [
    "\"f\" not in abc"
   ]
  },
  {
   "cell_type": "code",
   "execution_count": null,
   "id": "95046c43",
   "metadata": {},
   "outputs": [],
   "source": []
  },
  {
   "cell_type": "code",
   "execution_count": null,
   "id": "fa601da0",
   "metadata": {},
   "outputs": [],
   "source": []
  }
 ],
 "metadata": {
  "kernelspec": {
   "display_name": "Python 3 (ipykernel)",
   "language": "python",
   "name": "python3"
  },
  "language_info": {
   "codemirror_mode": {
    "name": "ipython",
    "version": 3
   },
   "file_extension": ".py",
   "mimetype": "text/x-python",
   "name": "python",
   "nbconvert_exporter": "python",
   "pygments_lexer": "ipython3",
   "version": "3.11.3"
  }
 },
 "nbformat": 4,
 "nbformat_minor": 5
}
